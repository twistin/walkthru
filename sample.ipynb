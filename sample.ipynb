{
 "cells": [
  {
   "cell_type": "markdown",
   "id": "720fbd2f-0f29-4d6e-a4f8-48df435f817e",
   "metadata": {},
   "source": [
    "# Walkthru sample notebook\n"
   ]
  },
  {
   "cell_type": "markdown",
   "id": "1755d08f-1b95-452f-bc31-c70df1900991",
   "metadata": {},
   "source": [
    "Aquí es como calculo 1+1:"
   ]
  },
  {
   "cell_type": "code",
   "execution_count": 1,
   "id": "8687f8c4-0da8-4da2-a45c-93026062aeec",
   "metadata": {
    "tags": []
   },
   "outputs": [
    {
     "data": {
      "text/plain": [
       "2"
      ]
     },
     "execution_count": 1,
     "metadata": {},
     "output_type": "execute_result"
    }
   ],
   "source": [
    "1+1"
   ]
  },
  {
   "cell_type": "code",
   "execution_count": 2,
   "id": "d9ac541e-f5a7-489a-ab85-3c2aa360c543",
   "metadata": {
    "tags": []
   },
   "outputs": [],
   "source": [
    "from numpy import*"
   ]
  },
  {
   "cell_type": "markdown",
   "id": "9685ac15-6d6c-4e60-a712-a338ee6353d8",
   "metadata": {},
   "source": [
    "Aquí es como calculo `sin`:"
   ]
  },
  {
   "cell_type": "code",
   "execution_count": 5,
   "id": "4bca75e4-e4a6-4adc-8b00-fb4b12c671ab",
   "metadata": {
    "tags": []
   },
   "outputs": [
    {
     "data": {
      "text/plain": [
       "array([0.84147098, 1.        ])"
      ]
     },
     "execution_count": 5,
     "metadata": {},
     "output_type": "execute_result"
    }
   ],
   "source": [
    "a = array([1.0,pi/2])\n",
    "sin(a)"
   ]
  },
  {
   "cell_type": "code",
   "execution_count": null,
   "id": "af976bed-9a09-4971-993a-f8b1621c2c3a",
   "metadata": {},
   "outputs": [],
   "source": []
  }
 ],
 "metadata": {
  "kernelspec": {
   "display_name": "Python 3 (ipykernel)",
   "language": "python",
   "name": "python3"
  },
  "language_info": {
   "codemirror_mode": {
    "name": "ipython",
    "version": 3
   },
   "file_extension": ".py",
   "mimetype": "text/x-python",
   "name": "python",
   "nbconvert_exporter": "python",
   "pygments_lexer": "ipython3",
   "version": "3.10.10"
  }
 },
 "nbformat": 4,
 "nbformat_minor": 5
}
